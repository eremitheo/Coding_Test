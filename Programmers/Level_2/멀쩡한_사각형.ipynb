{
 "cells": [
  {
   "cell_type": "markdown",
   "metadata": {},
   "source": [
    "# 멀쩡한 사각형"
   ]
  },
  {
   "cell_type": "markdown",
   "metadata": {},
   "source": [
    "[문제 보기](https://programmers.co.kr/learn/courses/30/lessons/62048)"
   ]
  },
  {
   "cell_type": "markdown",
   "metadata": {},
   "source": [
    "### Step 1. 문제 분할하기\n",
    " - 주어진 그림의 가로, 세로의 길이를 각각 $W$, $H$ 라고 했을 때, 똑같은 패턴이 $\\gcd(W, H)$번 만큼 반복된다. 따라서 패턴 한번 당 나타나는 흰 사각형의 개수를 구한다음, $\\gcd(W, H)$번을 곱해서 전체 사각형의 개수($W*H$)에서 빼 주면 된다."
   ]
  },
  {
   "cell_type": "markdown",
   "metadata": {},
   "source": [
    "### Step 2. 패턴 찾기\n",
    "- 패턴 1회의 길이는 가로 $\\frac{W}{G}$, 세로 $\\frac{H}{G}$이다. ($G = \\gcd(W,H)$)\n",
    "- 패턴 1회에서 나타나는 흰 사각형의 개수는 가로의 길이와 세로의 길이의 합에서 1을 빼준 것과 같다. \n",
    "\n",
    "  즉, $\\frac{W}{G} + \\frac{H}{G} - 1$ 이다."
   ]
  },
  {
   "cell_type": "markdown",
   "metadata": {},
   "source": [
    "### Step 3. 마무리\n",
    " - 위의 과정을 통해 구한 답을 수식으로 나타내면 다음과 같다. \n",
    " $$W*H - (\\frac{W}{G} + \\frac{H}{G} - 1)*G $$\n",
    " $$ = W*H - (W+H-G)$$"
   ]
  },
  {
   "cell_type": "code",
   "execution_count": 1,
   "metadata": {},
   "outputs": [],
   "source": [
    "def solution(W, H):\n",
    "    def gcd(a, b):\n",
    "        while b != 0:\n",
    "            a, b = b, a % b\n",
    "        return a\n",
    "    \n",
    "    G = gcd(W, H)\n",
    "    return W * H - (W + H - G)"
   ]
  },
  {
   "cell_type": "code",
   "execution_count": 2,
   "metadata": {},
   "outputs": [
    {
     "data": {
      "text/plain": [
       "(56125024, 23009396)"
      ]
     },
     "execution_count": 2,
     "metadata": {},
     "output_type": "execute_result"
    }
   ],
   "source": [
    "import numpy as np\n",
    "W, H = np.random.randint(10000000, 100000000, 2)\n",
    "W, H"
   ]
  },
  {
   "cell_type": "code",
   "execution_count": 3,
   "metadata": {},
   "outputs": [
    {
     "name": "stdout",
     "output_type": "stream",
     "text": [
      "4.47 µs ± 77 ns per loop (mean ± std. dev. of 7 runs, 100000 loops each)\n"
     ]
    }
   ],
   "source": [
    "%%timeit\n",
    "solution(W, H)"
   ]
  }
 ],
 "metadata": {
  "kernelspec": {
   "display_name": "Python 3",
   "language": "python",
   "name": "python3"
  },
  "language_info": {
   "codemirror_mode": {
    "name": "ipython",
    "version": 3
   },
   "file_extension": ".py",
   "mimetype": "text/x-python",
   "name": "python",
   "nbconvert_exporter": "python",
   "pygments_lexer": "ipython3",
   "version": "3.7.6"
  }
 },
 "nbformat": 4,
 "nbformat_minor": 4
}

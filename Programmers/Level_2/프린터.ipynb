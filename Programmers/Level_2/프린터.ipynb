{
 "cells": [
  {
   "cell_type": "markdown",
   "metadata": {},
   "source": [
    "# 프린터"
   ]
  },
  {
   "cell_type": "markdown",
   "metadata": {},
   "source": [
    "[문제 보기](https://programmers.co.kr/learn/courses/30/lessons/42587)"
   ]
  },
  {
   "cell_type": "markdown",
   "metadata": {},
   "source": [
    "- 먼저 대기목록의 가장 앞에 있는 문서를 .pop(0)을 사용하여 읽을 수 있다. List 대신 deque를 사용한다면 .popleft()을 사용한다.\n",
    "\n",
    "- 가장 앞에 있는 문서를 불러왔을 때, 이 문서의 중요도가 가장 높은지를 확인한다.\n",
    "\n",
    "    * 만약 중요도가 가장 높다면, 이 문서를 출력된 문서들을 보관하는 리스트에 추가시킨다(append).\n",
    "    \n",
    "        * 출력한 문서가 찾고자 하는 문서가 맞는지를 확인한다 (location 값이 0인지 아닌지로 판별). 찾는 문서가 맞다면 출력된 문서의 길이(len)를 반환하면 된다. 찾는 문서가 아니라면 location 값에서 1을 빼준다. 문서를 하나 출력했으므로 찾는 문서가 대기열에서 한 칸 앞으로 이동했기 때문이다.\n",
    "\n",
    "    * 중요도가 가장 높지 않다면, 이 문서를 출력해서는 안 되고 대기열의 가장 마지막으로 보내야 한다. 따라서 해당 문서를 리스트의 가장 마지막에 추가시킨다(append).\n",
    "        \n",
    "        * 해당 문서가 찾는 문서인지 확인하여, 맞을 시 location 값에다가 (대기열의 길이 - 1) 만큼을 더해준다. 찾는 문서가 아닐 시 location 값에서 1을 빼주면 된다.\n",
    "\n",
    "- 위의 시행을 대기목록의 길이가 0이 될 때 까지 반복하면 된다."
   ]
  },
  {
   "cell_type": "code",
   "execution_count": 1,
   "metadata": {},
   "outputs": [],
   "source": [
    "def solution(p, l):\n",
    "    ans = []\n",
    "    while 1:\n",
    "        if p[0] == max(p):\n",
    "            ans.append(p.pop(0))\n",
    "            if l == 0:\n",
    "                return len(ans)\n",
    "            else:\n",
    "                l -= 1\n",
    "        else:\n",
    "            p.append(p.pop(0))\n",
    "            if l == 0:\n",
    "                l += len(p)-1\n",
    "            else:\n",
    "                l -= 1"
   ]
  }
 ],
 "metadata": {
  "kernelspec": {
   "display_name": "Python 3",
   "language": "python",
   "name": "python3"
  },
  "language_info": {
   "codemirror_mode": {
    "name": "ipython",
    "version": 3
   },
   "file_extension": ".py",
   "mimetype": "text/x-python",
   "name": "python",
   "nbconvert_exporter": "python",
   "pygments_lexer": "ipython3",
   "version": "3.8.6"
  }
 },
 "nbformat": 4,
 "nbformat_minor": 4
}

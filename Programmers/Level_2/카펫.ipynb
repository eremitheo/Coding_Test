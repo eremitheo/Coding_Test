{
 "cells": [
  {
   "cell_type": "markdown",
   "metadata": {},
   "source": [
    "# 카펫"
   ]
  },
  {
   "cell_type": "markdown",
   "metadata": {},
   "source": [
    "[문제 보기](https://programmers.co.kr/learn/courses/30/lessons/42842)"
   ]
  },
  {
   "cell_type": "markdown",
   "metadata": {},
   "source": [
    "### Step 1. 문제의 조건 파악하기\n",
    " - 갈색, 노란색 격자의 수를 각각 $B,Y$, 가로, 세로 격자의 수를 각각 $W,H$, 전체 격자의 수를 $T$라 할 때 아래의 조건을 만족한다.\n",
    "   - $W > H$\n",
    "   - $T = B + Y = W * H$\n",
    "   - $Y = (W - 2) * (H - 2)$"
   ]
  },
  {
   "cell_type": "markdown",
   "metadata": {},
   "source": [
    "### Step 2. 조건을 활용하여 답 유도하기\n",
    "\n",
    "- 문제에서 주어진 조건은 $B, Y$이고 $B + Y = T$이므로 전체 격자의 수 $T$를 알 수 있다.\n",
    "- $W * H = T$이므로 $(W, H)$는 $T$의 약수들이다.\n",
    "- $T$의 약수들 $(W, H)$ 중 $Y = (W - 2)*(H - 2)$를 만족하는 $(W, H)$를 찾는다.\n",
    "\n",
    "혹은\n",
    "\n",
    "- $Y = (W - 2)*(H - 2)$이므로 $(W - 2, H - 2)$는 $Y$의 약수들이다.\n",
    "- $Y$의 약수들 $(W - 2, H - 2)$ 중 $W * H = T$을 만족하는 $(W - 2, H - 2)$를 찾는다.\n"
   ]
  },
  {
   "cell_type": "code",
   "execution_count": 1,
   "metadata": {},
   "outputs": [],
   "source": [
    "def solution(B, Y):\n",
    "    T = B + Y\n",
    "    for i in range(3, int(T**0.5)+1):\n",
    "        if T % i == 0:\n",
    "            if (i-2) * (T//i - 2) == Y:\n",
    "                return [T//i, i]"
   ]
  },
  {
   "cell_type": "code",
   "execution_count": 2,
   "metadata": {},
   "outputs": [
    {
     "data": {
      "text/plain": [
       "(2271, 1208927)"
      ]
     },
     "execution_count": 2,
     "metadata": {},
     "output_type": "execute_result"
    }
   ],
   "source": [
    "import numpy as np\n",
    "B = np.random.randint(1000, 5000)\n",
    "Y = np.random.randint(1000000, 2000000)\n",
    "\n",
    "B, Y"
   ]
  },
  {
   "cell_type": "code",
   "execution_count": 3,
   "metadata": {},
   "outputs": [
    {
     "name": "stdout",
     "output_type": "stream",
     "text": [
      "41.7 µs ± 275 ns per loop (mean ± std. dev. of 7 runs, 10000 loops each)\n"
     ]
    }
   ],
   "source": [
    "%%timeit\n",
    "solution(B, Y)"
   ]
  }
 ],
 "metadata": {
  "kernelspec": {
   "display_name": "Python 3",
   "language": "python",
   "name": "python3"
  },
  "language_info": {
   "codemirror_mode": {
    "name": "ipython",
    "version": 3
   },
   "file_extension": ".py",
   "mimetype": "text/x-python",
   "name": "python",
   "nbconvert_exporter": "python",
   "pygments_lexer": "ipython3",
   "version": "3.7.6"
  }
 },
 "nbformat": 4,
 "nbformat_minor": 4
}

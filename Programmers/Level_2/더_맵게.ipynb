{
 "cells": [
  {
   "cell_type": "markdown",
   "metadata": {},
   "source": [
    "# 더 맵게"
   ]
  },
  {
   "cell_type": "markdown",
   "metadata": {},
   "source": [
    "[문제 보기](https://programmers.co.kr/learn/courses/30/lessons/42626)"
   ]
  },
  {
   "cell_type": "markdown",
   "metadata": {},
   "source": [
    "### Step 1. 문제 구조 파악"
   ]
  },
  {
   "cell_type": "markdown",
   "metadata": {},
   "source": [
    " - 새로운 수를 만든 횟수를 저장할 $c$를 정의하고, 보관할 배열의 최소값 $m$을 파악하여 주어진 상수 K와 비교한다.\n",
    "     - $m \\geq K$일 시 시행을 종료하고, $c$를 반환한다.\n",
    "     - $m < K$일 시 배열에서 1,2 번째로 작은 수 $a_1, a_2$를 뽑아 새로운 원소 $a = a_1 + 2a_2$를 만들어 배열에 추가시키고 $c$에 1을 더한다.\n",
    "     - $m < K$이고 더 이상 새로운 원소를 만들지 못할 경우 (=배열의 길이가 1일 시) 시행을 종료하고, -1을 반환한다."
   ]
  },
  {
   "cell_type": "markdown",
   "metadata": {},
   "source": [
    "### Step 2. 힙 큐(heap queue)를 사용하여 문제 해결"
   ]
  },
  {
   "cell_type": "markdown",
   "metadata": {},
   "source": [
    " - 먼저 일반적인 list를 사용하여 문제 해결을 시도해 본 결과, 효율성 테스트를 통과하지 못 하였다."
   ]
  },
  {
   "cell_type": "markdown",
   "metadata": {},
   "source": [
    "#### 1. list의 sort 함수를 이용한 해결 (효율성 테스트 통과 x)"
   ]
  },
  {
   "cell_type": "code",
   "execution_count": 1,
   "metadata": {},
   "outputs": [],
   "source": [
    "def solution1(arr, K):\n",
    "    c = 0\n",
    "    \n",
    "    while 1:\n",
    "        arr.sort()\n",
    "        if arr[0] >= K:\n",
    "            return c\n",
    "        elif len(arr) == 1:\n",
    "            return -1\n",
    "        else:\n",
    "            new = arr.pop(0) + 2 * arr.pop(0)\n",
    "            arr.append(new)\n",
    "            c += 1"
   ]
  },
  {
   "cell_type": "markdown",
   "metadata": {},
   "source": [
    "#### 2. list와 min 함수를 이용한 해결 (효율성 테스트 통과 x)"
   ]
  },
  {
   "cell_type": "code",
   "execution_count": 2,
   "metadata": {},
   "outputs": [],
   "source": [
    "def solution2(arr, K):\n",
    "    c = 0\n",
    "    \n",
    "    while 1:\n",
    "        if min(arr) >= K:\n",
    "            return c\n",
    "        elif len(arr) == 1:\n",
    "            return -1\n",
    "        else:\n",
    "            m1 = min(arr)\n",
    "            arr.remove(m1)\n",
    "            m2 = min(arr)\n",
    "            arr.remove(m2)\n",
    "            new = m1 + 2 * m2\n",
    "            arr.append(new)\n",
    "            c += 1"
   ]
  },
  {
   "cell_type": "markdown",
   "metadata": {},
   "source": [
    "#### 3. 힙 큐를 이용한 해결"
   ]
  },
  {
   "cell_type": "code",
   "execution_count": 3,
   "metadata": {},
   "outputs": [],
   "source": [
    "import heapq"
   ]
  },
  {
   "cell_type": "code",
   "execution_count": 4,
   "metadata": {},
   "outputs": [],
   "source": [
    "def solution3(arr, K):\n",
    "    c = 0\n",
    "    heapq.heapify(arr)\n",
    "\n",
    "    while 1:\n",
    "        if arr[0] >= K:\n",
    "            return c\n",
    "        elif len(arr) == 1:\n",
    "            return -1\n",
    "        else:\n",
    "            new = arr[0]\n",
    "            heapq.heappop(arr)\n",
    "            new += arr[0] * 2\n",
    "            heapq.heappop(arr)\n",
    "            heapq.heappush(arr, new)\n",
    "            c += 1"
   ]
  }
 ],
 "metadata": {
  "kernelspec": {
   "display_name": "Python 3",
   "language": "python",
   "name": "python3"
  },
  "language_info": {
   "codemirror_mode": {
    "name": "ipython",
    "version": 3
   },
   "file_extension": ".py",
   "mimetype": "text/x-python",
   "name": "python",
   "nbconvert_exporter": "python",
   "pygments_lexer": "ipython3",
   "version": "3.7.6"
  }
 },
 "nbformat": 4,
 "nbformat_minor": 4
}

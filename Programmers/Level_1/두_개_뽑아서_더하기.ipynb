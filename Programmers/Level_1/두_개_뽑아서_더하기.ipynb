{
 "cells": [
  {
   "cell_type": "markdown",
   "metadata": {},
   "source": [
    "# 두 개 뽑아서 더하기\n",
    "\n",
    "[문제 링크](https://programmers.co.kr/learn/courses/30/lessons/68644)"
   ]
  },
  {
   "cell_type": "markdown",
   "metadata": {},
   "source": [
    "### 풀이 1\n",
    "- 값을 보관할 빈 list를 만든다.\n",
    "\n",
    "- 이중 for문을 통해 주어진 배열의 서로 다른 원소들을 전부 더해 준다.\n",
    "\n",
    "- 더해준 원소가 이미 list에 있는지 확인하고 없다면 추가해 준다.\n",
    "\n",
    "- 원소들을 list에 추가하는 작업이 끝났다면 list를 정렬해준다."
   ]
  },
  {
   "cell_type": "code",
   "execution_count": 1,
   "metadata": {},
   "outputs": [],
   "source": [
    "def solution(arr):\n",
    "    lst, n = [], len(arr)\n",
    "    for i in range(n):\n",
    "        for j in range(i+1, n):\n",
    "            if arr[i]+arr[j] not in lst:\n",
    "                lst.append(arr[i]+arr[j])\n",
    "    return sorted(lst)"
   ]
  },
  {
   "cell_type": "code",
   "execution_count": 2,
   "metadata": {},
   "outputs": [
    {
     "name": "stdout",
     "output_type": "stream",
     "text": [
      "2.83 s ± 3.78 ms per loop (mean ± std. dev. of 7 runs, 1 loop each)\n"
     ]
    }
   ],
   "source": [
    "%%timeit\n",
    "solution(list(range(1000)))"
   ]
  },
  {
   "cell_type": "markdown",
   "metadata": {},
   "source": [
    "### 풀이 2\n",
    " - 값을 list 대신 set에 추가한다. \n",
    " - Set는 중복된 원소를 가지지 않으므로 덧셈으로 만든 원소가 있는지 확인할 필요가 없다.\n",
    " - Set에는 정렬기능이 없으므로 원소를 전부 추가했다면 마지막에 list로 변환한 다음 정렬해준다."
   ]
  },
  {
   "cell_type": "code",
   "execution_count": 3,
   "metadata": {},
   "outputs": [],
   "source": [
    "def solution2(arr):\n",
    "    st, n = set(), len(arr)\n",
    "    for i in range(n):\n",
    "        for j in range(i+1, n):\n",
    "            st.add(arr[i]+arr[j])\n",
    "    return sorted(list(set(st)))"
   ]
  },
  {
   "cell_type": "code",
   "execution_count": 4,
   "metadata": {},
   "outputs": [
    {
     "name": "stdout",
     "output_type": "stream",
     "text": [
      "51.2 ms ± 47.2 µs per loop (mean ± std. dev. of 7 runs, 10 loops each)\n"
     ]
    }
   ],
   "source": [
    "%%timeit\n",
    "solution2(list(range(1000)))"
   ]
  },
  {
   "cell_type": "markdown",
   "metadata": {},
   "source": [
    "- List보다는 set을 사용했을 때의 처리 속도가 훨씬 빠르다."
   ]
  },
  {
   "cell_type": "markdown",
   "metadata": {},
   "source": [
    "### 풀이 3\n",
    "- 이중 for문 대신 itertools의 combinations함수를 사용한다."
   ]
  },
  {
   "cell_type": "code",
   "execution_count": 5,
   "metadata": {},
   "outputs": [],
   "source": [
    "import itertools\n",
    "\n",
    "def solution3(arr):\n",
    "    return sorted(list(set(map(lambda x: x[0]+x[1], itertools.combinations(arr, 2)))))"
   ]
  },
  {
   "cell_type": "code",
   "execution_count": 6,
   "metadata": {},
   "outputs": [
    {
     "name": "stdout",
     "output_type": "stream",
     "text": [
      "44.4 ms ± 1.47 ms per loop (mean ± std. dev. of 7 runs, 10 loops each)\n"
     ]
    }
   ],
   "source": [
    "%%timeit\n",
    "solution3(list(range(1000)))"
   ]
  },
  {
   "cell_type": "markdown",
   "metadata": {},
   "source": [
    "- 이중 for문을 사용했을 때 보다 속도가 조금 더 향상되었다."
   ]
  },
  {
   "cell_type": "code",
   "execution_count": 7,
   "metadata": {},
   "outputs": [],
   "source": [
    "def solution4(arr):\n",
    "    return sorted(list(set(map(lambda x: sum(x), itertools.combinations(arr, 2)))))"
   ]
  },
  {
   "cell_type": "code",
   "execution_count": 8,
   "metadata": {},
   "outputs": [
    {
     "name": "stdout",
     "output_type": "stream",
     "text": [
      "67.6 ms ± 150 µs per loop (mean ± std. dev. of 7 runs, 10 loops each)\n"
     ]
    }
   ],
   "source": [
    "%%timeit\n",
    "solution4(list(range(1000)))"
   ]
  },
  {
   "cell_type": "markdown",
   "metadata": {},
   "source": [
    "- 직접 덧셈을 하는 것이 sum 함수를 활용하는 것 보다 빠르다."
   ]
  }
 ],
 "metadata": {
  "kernelspec": {
   "display_name": "Python 3",
   "language": "python",
   "name": "python3"
  },
  "language_info": {
   "codemirror_mode": {
    "name": "ipython",
    "version": 3
   },
   "file_extension": ".py",
   "mimetype": "text/x-python",
   "name": "python",
   "nbconvert_exporter": "python",
   "pygments_lexer": "ipython3",
   "version": "3.7.6"
  }
 },
 "nbformat": 4,
 "nbformat_minor": 4
}

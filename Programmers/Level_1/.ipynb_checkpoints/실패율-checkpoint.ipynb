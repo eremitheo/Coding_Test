{
 "cells": [
  {
   "cell_type": "markdown",
   "metadata": {},
   "source": [
    "# 실패율\n",
    "\n",
    "[문제 보기](https://programmers.co.kr/learn/courses/30/lessons/42889)"
   ]
  },
  {
   "cell_type": "markdown",
   "metadata": {},
   "source": [
    "### 풀이\n",
    "- 스테이지 별로 실패율을 저장할 dictionary를 생성한다.\n",
    "- for문을 이용하여 각 스테이지별로 다음의 작업을 수행한다.\n",
    "    - 실패율을 계산하여 dictionary로 보낸다.\n",
    "    - 해당 스테이지에서 탈락한 사람의 수 만큼 스테이지의 수에서 빼준다.\n",
    "- 실패율을 기준으로 dictionary를 sort하고, key만 추출하여 반환한다."
   ]
  },
  {
   "cell_type": "code",
   "execution_count": 1,
   "metadata": {},
   "outputs": [],
   "source": [
    "def solution(N, s):\n",
    "    d, n = {}, len(s)\n",
    "    for i in range(1,N+1):\n",
    "        c = s.count(i)\n",
    "        d[i] = (0 if n == 0 else c/n)\n",
    "        n -= c\n",
    "    return list(dict(sorted(d.items(), key=lambda x: x[1], reverse=True)).keys())"
   ]
  },
  {
   "cell_type": "code",
   "execution_count": 2,
   "metadata": {},
   "outputs": [
    {
     "data": {
      "text/plain": [
       "134623"
      ]
     },
     "execution_count": 2,
     "metadata": {},
     "output_type": "execute_result"
    }
   ],
   "source": [
    "import numpy as np\n",
    "N = 50\n",
    "s = list(np.random.randint(1, 51, np.random.randint(100000, 200000)))\n",
    "len(s)"
   ]
  },
  {
   "cell_type": "code",
   "execution_count": 3,
   "metadata": {},
   "outputs": [
    {
     "name": "stdout",
     "output_type": "stream",
     "text": [
      "1.03 s ± 11 ms per loop (mean ± std. dev. of 7 runs, 1 loop each)\n"
     ]
    }
   ],
   "source": [
    "%%timeit\n",
    "solution(N, s)"
   ]
  }
 ],
 "metadata": {
  "kernelspec": {
   "display_name": "Python 3",
   "language": "python",
   "name": "python3"
  },
  "language_info": {
   "codemirror_mode": {
    "name": "ipython",
    "version": 3
   },
   "file_extension": ".py",
   "mimetype": "text/x-python",
   "name": "python",
   "nbconvert_exporter": "python",
   "pygments_lexer": "ipython3",
   "version": "3.7.6"
  }
 },
 "nbformat": 4,
 "nbformat_minor": 4
}

{
 "cells": [
  {
   "cell_type": "markdown",
   "metadata": {},
   "source": [
    "# 시저 암호"
   ]
  },
  {
   "cell_type": "markdown",
   "metadata": {},
   "source": [
    "[문제 보기](https://programmers.co.kr/learn/courses/30/lessons/12926)"
   ]
  },
  {
   "cell_type": "markdown",
   "metadata": {},
   "source": [
    "### 풀이 1\n",
    "- ord 함수를 이용하여 문자를 ascii code로 변환한다.\n",
    "- 주어진 수 n을 더한 다음 chr 함수를 이용하여 다시 문자로 변환한다."
   ]
  },
  {
   "cell_type": "code",
   "execution_count": 1,
   "metadata": {},
   "outputs": [],
   "source": [
    "def solution1(s, n):\n",
    "    lst = []\n",
    "    for letter in s:\n",
    "        if letter == ' ':\n",
    "            lst.append(' ')\n",
    "        elif ord(letter) >= 97:\n",
    "            lst.append(chr(97+(ord(letter)+n-97)%26))\n",
    "        else:\n",
    "            lst.append(chr(65+(ord(letter)+n-65)%26))\n",
    "    return ''.join(lst)"
   ]
  },
  {
   "cell_type": "markdown",
   "metadata": {},
   "source": [
    "- for 대신 map을 쓸 수도 있다."
   ]
  },
  {
   "cell_type": "code",
   "execution_count": 2,
   "metadata": {},
   "outputs": [],
   "source": [
    "def solution2(s, n):\n",
    "    return ''.join(list(map(lambda x: x if x==' ' else (chr(97+(ord(x)+n-97)%26) if ord(x)>=97 else chr(65+(ord(x)+n-65)%26)), list(s))))"
   ]
  },
  {
   "cell_type": "markdown",
   "metadata": {},
   "source": [
    "### 풀이 2\n",
    "- 알파벳이 순서대로 배열된 문자열을 만든다. (직접 만들 수도 있고, string library에서 불러올 수도 있다.)\n",
    "- find 함수를 사용하여 문자열 내에서의 위치를 찾은 후, n을 더한 다음 해당 index에 해당하는 문자를 불러온다."
   ]
  },
  {
   "cell_type": "code",
   "execution_count": 3,
   "metadata": {},
   "outputs": [],
   "source": [
    "from string import ascii_uppercase as up, ascii_lowercase as low"
   ]
  },
  {
   "cell_type": "code",
   "execution_count": 4,
   "metadata": {},
   "outputs": [],
   "source": [
    "def solution3(s, n):\n",
    "    lst = []\n",
    "    for letter in s:\n",
    "        if letter == ' ':\n",
    "            lst.append(' ')\n",
    "        elif letter in up:\n",
    "            lst.append(up[(up.find(letter)+n)%26])\n",
    "        else:\n",
    "            lst.append(low[(low.find(letter)+n)%26])\n",
    "    return ''.join(lst)"
   ]
  },
  {
   "cell_type": "markdown",
   "metadata": {},
   "source": [
    "- for 대신 map을 쓸 수도 있다."
   ]
  },
  {
   "cell_type": "code",
   "execution_count": 5,
   "metadata": {},
   "outputs": [],
   "source": [
    "def solution4(s, n):\n",
    "    return ''.join(list(map(lambda x: x if x==' ' else (up[(up.find(x)+n)%26] if x in up else low[(low.find(x)+n)%26]), list(s))))"
   ]
  },
  {
   "cell_type": "code",
   "execution_count": 6,
   "metadata": {},
   "outputs": [
    {
     "name": "stdout",
     "output_type": "stream",
     "text": [
      "dCPjgQdYiLKNaWoH u eeGQKMqyuHqkkeTplwRgUdjtNIqFd ZWINiWPoyfSOZGApqlRiwZKjCPF GtEnPGLlbjHpWTJbpeSWRfaJCanGFIrRUcYTKDpHeQhtdhUbHUZDSOsWJMUcDQWvM CVwBFpBGxeoyZDJuxVlSGYVyCbisi qrONuwRiYBWEwZhiZeqUsQTZx VOXevAYCuMbgKZJaoLVctRFjWsWKuCdPgodXkOlWck PNbtYZZPgFYYlSerhZiPsTTuDIQDnsNQANmMHXUpkvglZraWybeJipYNudnehPjJPVVEvTCjjAxBLWRiLICygxfAVMStAZIWvpBhpXOkUAXYhHhPrsVEMvWaCPZnemeqGxuwymDfuIULe ZnrVvPotuYNdLKtTLBQVDhHRHAUEHxPduXlrGiVqBTarAfR jBPDvlekUMMWsapuxSWoluAylkBZaFuMjpAjOJYvs FvLtUErKCnBUonyfgcLNxibfBflGyiSHjljYkLiuVpFjybZLlwASWAuIFnumMarZxgsklcaeHVqMHqxvSHDtAOOZIQKBmZQsbvasHhBiNHFCOlydPBmfmfRwwcCXYOvvSIgVPUORWbBjnqmcYamwRpxKhDCABNjgiMSMOeeqZCnqlm INiTGaVinoNoqLZCMY KeGDWTNMmSukt ZKiaBk cYthrFjmeUJsmLHGEmHhmdtoUssW KeTnehVpaYYNnWihlJpMCnMtjHXaoydrIQrDrhAXhpJbpdlIKFGNUthTEThOhUcryZcZcRwNVcKKrMldtEB erawkOFCAkkwpspnPRMApyTyYZSrVoEibBFbr eoVOeKHdjNjPwYvpwjFkpiKKoDWHDKlgfQhgvqWSJvLiHVT tYqcYUBisOLpOJCbyujaCaMLRZZAVWSeZQqYVdGbHFBbn  HEibar MxNXtkhbUQQmoaExqEtRRFNskGCUqsEcPRiyGdjuZgoJoFYxcylfuIKNfVnSCMhATNwjrY NogIVUEmIKinGTprXSAcdEyOYqsyCdHDjooIVJjNAviBljQZKcpGysYOjBvVhi wWUUDHaIeZsrRdAANmcLFUlnKMKcYsJiyCYwtyLlnfhcyRTgCl vptXLgiOqpPAwPODNr btXwCeEYJhxdnIAhMng EmlCaXSxKpHSmEkpNFmPobyUwSkWbRdsDdBKFhsfJSwp ksXIcCotxYMvNtbojcNhNnedQRJjQPvyLLFhgncqLYoFnbHnxASlrueSeiJsVgPaDFXJqZimXksAHmKYhJITYVfZcxBIAmTFjlxfThTHOiNnYWAGcnairDpwWbJmIxMiQJjfNmEcJBkTqmcqwgucapktjE QpXYo GXKWCmhOMaAbddJUyIiaxOoCFwKswNGVyhXmWWOvBFgOMKTnAFaNVScRXHaXOyHwMG YEaTkupiaJJIvZhlgepFHIClXeiQHvdZAqUVGbEsSIHjAmSEQRtIDsKFkDRjksmaevKYCOGLc ubaRQOBpENoSbnYbBUMZMomYBOlCmggAgpvyJFKPusKvcUygbNQmoEQviTBeulFsspVcZfmtdofpZIAgtBYKUClqqSfikCGonYhBYPErYMTuyQqqE KXjtZEsrreVkSsPRPEUNONIJKUXWqxnBTioqlOpOMOqdGjDbivgNWWPjTOmxqhoVRuydgrfhGVDSjQvBEkFDDtCySSwXKvMhafGMANdDsVbncvlDFlrvoFkyRhNdvqbTmuFGKdnWsFGRZeNEMDgthcaXJnBdPIPXQXaYqstclPjevUeOPMOpwCybOoiOkCFdgOTwkwEOQKYfpRSlZcBaOnvju  NYJZNjlhjneQMqCVWhGjohnFyoqAVRpQfXooXOOhRarFIFkkTXIeQpyvjdEepRM BijWyDbcsmlTvyKLxDrUavDLLACRJUSaZmTrbhxkOYERoUtgWFksOjnsdbpWoupOaRaxrvxl MkQutgCQrjZ bDGth YljZrkHBbTxlRorquYtdjDIMvyLNaiIHdAhPXecewmGCMJPZWLQaNrOLGnRGEapAQBTDHsbGikyInPAJNcYoBbLQXxNtFIPZAeKHcsGIiUsnQZqYssnedUisbqSTkNbEaBtlapbPylYJBbZ KTFBXV yTLOPbCFlkksZJFBrbcfuPySZmeUEklZnOYDagwZjGuMdw tFlRyiHGWNtCoHftRLNRnGXKFluicAduRsKRGnHnVeMDTQeTypGUXcXQAclGuQnFGHvlpxmh JctKFuMaMukLadAIcwqnwVfFhLLSRQYJTCoCvEdMHVyLEwrllCSHLZBVqkMFjSHZvNEjrRWJxTChOOKAbcbPjGJuJcDBPDclnliLfneVefnffXGAhqeFnnyeHdaoH XjkHOOduwefgtVdZcxgwYRcomNZkkE nQyxLxtcNgDyfYPcTUvwAmJxIRGYgGBJJaNdVKbWnXvGlVVkaakBiOokxPGMNcFltVQhGNdqbbxRFKkRsIbWoRgaIJDXlJEuGv qWasfiARZBZDFbVGrDaydXlJmIwoUGmDrORlSSTaiNsrVCmMLbkFapreMrmjZKiJihYEwAuVAulbTDGvViHDEsHnomxKoEOSfCEYCNaTexfCtsSolGIeTSpjhiCGLHNXGwmnHZkXLSnJDiyvBbWnpQbuiEtkgOXxeTEolpXYsafbiOfbpkhqiIIFJrKjLoQWPFCxEhhAEvIyUlLcylQg JEwP ObBGamCcKRvMaYOX LSeQHZfsLxQeFClZXrEkGyKGFJsNjsjRWhdhpb TQYOuAwITYBAJEGVJ AkcncEwlexThJCVHHmqNjSSAUApIkMkayDAGoOHUIrcoVsyCZMqMlrtdKmcGTPEmlcjfMZqlynSCfwOroqwlagfqMEsOiGuMABgrlAZDMhtuUMtQvIJTZsWngGkwxOdoRaVrPsRacebivowgFMHDXiAWqdvwTZxcGESeeUwjvWUie xBmkKTivVRneM bMBhFZcOxupdUQKGsqJkLIFlTxXrilXAaZpYtpZHpUSiTaPWbsuHnwUjisJBChHpewNMpNLJhgtFynWwRUmICQvFaeCTIfhkSOgBDbahIRDUTwuhVJDOxYhZnKTnHnZJJPuHVW iFWSmgSeBLhGiSrojFeexMekAJpwYVujCxNgQpwUJqIgmtvVkFCNdRrEmHQOGmrPyuycPNQT GoLYegvtFTDUSYxpi lxoPfIAbFfjqtdrIHFioVgtgIMIZdLKjxqKVACgrcOanUDPIUvhtvaaLPesRHnhUZfsGdRoWtJWruWREliHruvRrIgVQAbBgfEayVviOJCZKZJp dPUEmrIqhZpMmlYIiAJxrCJ aZjEqgiAEnnpqfIEQufhjZeciJZMoalmnyDnFDqWWwBhqGcTrnTEJLGccQVsSEeWrkxXxZHEQCibqMjoOnGbfOyFtWFjQVJFEQcppKPKDwQCSRjKye pLECFtKKyhsXeOGQUhtkiaBRAQF FAGaNqWPrjeLjdOAudeoXtZINGFIgbaOyTvytXTLXLsZaGPPejcgktVmlJgQoiPZshpoANhxqCvNpFpXbMujpCQVHVgEYLaWXWJiDRDlIjKSwTvrvd sChvRNRAscTPSuePhuFAlEvAeTNuLxhu kBHwqkYyMVWQaimWphGgCDlyvcwu h oIuAX OcHKUnFOUYtMIIEkGgyWApEmuXJIJRFpqtxqioyCgZlqoWBFjiB yaahnoyYlxoIKyGVHqkQoZhdydlOcGyDyOJENQQGGmSgHrqIQNnqRGpsjrVYimIfsvHpDfXoMJkmSFubEgjAkhhIREuvNuCDVamgQhipTkYwscmPEDeuYGbMJCdIpyUXChur VsIhGhDmCldVTjZBJUtrjxxGjhREVctaDYMHVVZiU CDtSNfvGNbfAxNPlsPdvfTQWvInBrQevZhkQhGjbPxgRjtIaxYTdCPRxBAelXSwnyLgnAeNqT womPElHNEVsNwUKECgfnGCOvDRwIFmiPouWXXDYChDCHGVhNjbFEwiRfgwDaigbDFbKvyHbglfOepphTmUsZpYAZGmvmiElRlAULJtIJEtCf ucRLlgqCkQTGCVWL WrT WY fWIpvFNlQnT xWlcXcnsGgRmCfPlNyVWFKCFuBbZwCYRQogAIZwqUyEdrloyHYEMrgQJoNUunsTkEkiuhoOdHJBsHgwTZsaVEpfxaCtJUUbBDfOIgPeLCIeHUrewhbbOriHiDlYjbVsHgkWwRrRIocPKDEHWGybfd yggDYSZpHJFqhbHlaPASrxKGgqkPxRSOELajKAHHxCMXdIHbbmmLIsgKBurOCKQkhuwBRhSiHbibHwnYbUQYMqykFLCCYaHMemXiAvECJKtWYHAIkYMOQsxjtquoUbNZdjqpyfvitQwJCLaxyRNniMBwcwbKSCdKSWBWV ptRVQScVQZxaelHpJwCnGuoAZdEj OtHXqXdiQTYotpfCqPrPElNxvvAtquSLUiXudGvUDBecibcbvAlI JFhHUevQuhfChoKVJHtZMigsGngPdsUvdCaTrNiwlJHycVtLKRWucIGDUKZtFbVVvXRDQUcIulmrDgqVBXNtut oDmrQNJZBgGMAc csmX QlGsQOXyYpxFsYUKZbsymAnX uGnyynxFVVxEUPvtTxcFZKmyhnCoouobuVBWCLsayVZvFbSHgfPgOQIrrOmLw leaW DFNBpWReDEmblqeBRWVhGwYaoLLwfkpGEAGFqnWDDidvOwgthpWyuCQoDLEkpqJkxYQAOeOPGqCRkmBQsCqDnCJy qODobfXVAEpySAcGTZjANMsKiccEBQEBLxjvSLnxIoPPrvUceFumdUBDdrmTYCRdrVdgXYUibBvYpSxMBeljsGTvfBuogcmmgQcgKrhBOuvOPxRvAMPFrupcnMHWaOk nAJ YylArAS ZLfaxKNvbvhbJfsIiMusCu udFdIjOSHXflnyCmlGSPERZippdvMVZjJPyOFSTOVkNjkasSAvXralIucmfTjZHYEnRalxeuBrAiMZfCneEhjUqESecLhMALUmbCoksAuExMXkhJHInibRkKELKwkQuLwyJPwrKwOXtEddfuNYcPtbeLPRifsZxQfXuyKmNKRDpeAUn SLOIyZeiFGNoVLLGSkZTaxiqHXOlbbSMBUpgZnDgwfpFIcouropcEsw SdaWZIKJkumggofHUiEhOCLtAZYWsTHtotAcvJijNX yiprqIDFdujaZ kgYIXLahLdmnht LUPT dyURmJtGOyQGSuItikclsIZDlCcZSDmvSkoXCJGdabhSymnTbwdwRqXosZHCiMXlHHtOSjGVPQDEYoVYpexAJEHcMvphpjOtujjSqnKtaeKZDNWobdbElqAWVdvNKlLxFqAoOjZbMjtJScXjALHydnkBllIMRDgtpjJMQdxnivACWaibQa XCYKwTovRYSvHGCgatGfxIIyAfcjCfHvlhtOdxyhHRI UenDIELoHpnhbUsfGMkWTin ANIPAljWRRwrutXJcamCakqpHgsXoOUEnYdXgpdbNTuZrdwgRtEyqLQ SakXiQDQxiootlyIULaD TAtZBLpYoWZHAjxjMvuSoudmQPLihYwjUajWnFHWStUqjBORr ULZZpULBSNsNfXARXwsyZivLnQfcGhRsEcfmCpHnrJqHrumCfHpOMPQoYWJboBINrajYPBwODonkYNaZTMPoTYyeDCEVQkXcbHLUncsQiyWyVRMDZ oKTAaAdYhhVQpHZTgjrVcpXH vgcyOApmZeHmimGTqCcJqqEPtOsrdOlrWfAIwqmwxSrZtOpifcXXTkNfHi hNNL BSQfXLfQBxORnUPxLdjjmRkDOaCpyAgTUQGrsRMenQjmaiToqKTDhSnkkFWwVwLqcqEZYPkcNfYsVRZirZcyfyC DWFhglOnNQBJCfsrphqweXDmqJLHgeLLtvdUPKFIgylcAQFmTojYnFhXMGuLVPqllfF jfMDKoaoCPSNKxjY  qGjnZDdQXKsdxtigbhtDapVWpTjdOlSjaWAuvstbyIOqmIoBiRj hMXZSrfdaRaMEGIPptRxCIYcuSYAIbOUDLcLcfLJoTUtpPHxhuaUPReJOadHivKUNuVOLa SZqchjnfOvKLtntFGFXjYqwHXEkluaNfFFdIEnVPVoJVAFqHOvoEfjGjWmpHvZgT sFyZxIU rkOYHfFCtEkrCjuwZacFvIafQTRPfGkrfEP lyCYjOjhtNuCtl BxMgxtDh pbKangfyVRK 10\n",
      "6320\n"
     ]
    }
   ],
   "source": [
    "import numpy as np\n",
    "test_str = ' '+up+low\n",
    "s = ''.join(map(lambda x: test_str[x], np.random.randint(0,52, np.random.randint(1000, 8000))))\n",
    "n = np.random.randint(1, 25)\n",
    "print(s, n)\n",
    "print(len(s))"
   ]
  },
  {
   "cell_type": "code",
   "execution_count": 7,
   "metadata": {},
   "outputs": [
    {
     "name": "stdout",
     "output_type": "stream",
     "text": [
      "1.33 ms ± 6.34 µs per loop (mean ± std. dev. of 7 runs, 1000 loops each)\n"
     ]
    }
   ],
   "source": [
    "%%timeit\n",
    "solution1(s, n)"
   ]
  },
  {
   "cell_type": "code",
   "execution_count": 8,
   "metadata": {},
   "outputs": [
    {
     "name": "stdout",
     "output_type": "stream",
     "text": [
      "1.41 ms ± 6.19 µs per loop (mean ± std. dev. of 7 runs, 1000 loops each)\n"
     ]
    }
   ],
   "source": [
    "%%timeit\n",
    "solution2(s, n)"
   ]
  },
  {
   "cell_type": "code",
   "execution_count": 9,
   "metadata": {},
   "outputs": [
    {
     "name": "stdout",
     "output_type": "stream",
     "text": [
      "1.49 ms ± 4.79 µs per loop (mean ± std. dev. of 7 runs, 1000 loops each)\n"
     ]
    }
   ],
   "source": [
    "%%timeit\n",
    "solution3(s, n)"
   ]
  },
  {
   "cell_type": "code",
   "execution_count": 10,
   "metadata": {},
   "outputs": [
    {
     "name": "stdout",
     "output_type": "stream",
     "text": [
      "1.51 ms ± 5.64 µs per loop (mean ± std. dev. of 7 runs, 1000 loops each)\n"
     ]
    }
   ],
   "source": [
    "%%timeit\n",
    "solution4(s, n)"
   ]
  },
  {
   "cell_type": "markdown",
   "metadata": {},
   "source": [
    "- ord, chr 함수를 이용하는 것이 문자열을 참조하는 방식 보다 좀 더 빠른 것 같다."
   ]
  }
 ],
 "metadata": {
  "kernelspec": {
   "display_name": "Python 3",
   "language": "python",
   "name": "python3"
  },
  "language_info": {
   "codemirror_mode": {
    "name": "ipython",
    "version": 3
   },
   "file_extension": ".py",
   "mimetype": "text/x-python",
   "name": "python",
   "nbconvert_exporter": "python",
   "pygments_lexer": "ipython3",
   "version": "3.7.6"
  }
 },
 "nbformat": 4,
 "nbformat_minor": 4
}

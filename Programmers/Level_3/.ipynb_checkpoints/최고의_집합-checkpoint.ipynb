{
 "cells": [
  {
   "cell_type": "markdown",
   "metadata": {},
   "source": [
    "# 최고의 집합"
   ]
  },
  {
   "cell_type": "markdown",
   "metadata": {},
   "source": [
    "[문제 보기](https://programmers.co.kr/learn/courses/30/lessons/12938)"
   ]
  },
  {
   "cell_type": "markdown",
   "metadata": {},
   "source": [
    "### Step 1. 문제 조건 파악"
   ]
  },
  {
   "cell_type": "markdown",
   "metadata": {},
   "source": [
    "- $n$개의 자연수로 이루어진 중복을 허용하는 집합 중 문제에 주어진 2가지 조건을 만족하는 집합을 반환한다. 조건을 만족하는 집합이 존재하지 않으면 [-1] 을 반환한다.\n",
    "\n",
    "- 조건 1: 집합의 원소들의 합이 주어진 수 $S$와 같다.\n",
    "    - 원소들의 합이 가장 작은 경우는 모든 원소들이 1인 경우로, 이 때 원소들의 합은 $n$ 이다. 따라서 $n > S$ 인 경우 조건을 만족할 수 없다.\n",
    "\n",
    "\n",
    "- 조건 2: 조건 1을 만족하는 집합 중 원소들의 곱이 최대가 되는 집합\n",
    "    - 원소들의 합이 일정할 때, 원소들의 곱이 최대가 되는 경우는 모든 원소들이 같은 경우 이다. \n",
    "    - 단, 문제의 조건에서 집합의 원소들은 자연수 이므로 모든 원소들이 같을 수 없는 경우도 존재한다. 이 때는 최대한 "
   ]
  },
  {
   "cell_type": "markdown",
   "metadata": {},
   "source": [
    "5 5 5 5 7 vs 5 5 5 6 6"
   ]
  },
  {
   "cell_type": "code",
   "execution_count": null,
   "metadata": {},
   "outputs": [],
   "source": []
  },
  {
   "cell_type": "code",
   "execution_count": null,
   "metadata": {},
   "outputs": [],
   "source": []
  },
  {
   "cell_type": "code",
   "execution_count": 1,
   "metadata": {},
   "outputs": [],
   "source": [
    "def solution(n, s):\n",
    "    if s < n:\n",
    "        return [-1]\n",
    "    ans = []\n",
    "    for i in range(n):\n",
    "        a = s//n\n",
    "        ans.append(a)\n",
    "        s -= a\n",
    "        n -= 1\n",
    "    return ans"
   ]
  },
  {
   "cell_type": "code",
   "execution_count": 2,
   "metadata": {},
   "outputs": [
    {
     "data": {
      "text/plain": [
       "[5, 5, 5, 6, 6]"
      ]
     },
     "execution_count": 2,
     "metadata": {},
     "output_type": "execute_result"
    }
   ],
   "source": [
    "solution(5, 27)"
   ]
  },
  {
   "cell_type": "code",
   "execution_count": null,
   "metadata": {},
   "outputs": [],
   "source": []
  }
 ],
 "metadata": {
  "kernelspec": {
   "display_name": "Python 3",
   "language": "python",
   "name": "python3"
  },
  "language_info": {
   "codemirror_mode": {
    "name": "ipython",
    "version": 3
   },
   "file_extension": ".py",
   "mimetype": "text/x-python",
   "name": "python",
   "nbconvert_exporter": "python",
   "pygments_lexer": "ipython3",
   "version": "3.7.6"
  }
 },
 "nbformat": 4,
 "nbformat_minor": 4
}
